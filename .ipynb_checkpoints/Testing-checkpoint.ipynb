{
 "cells": [
  {
   "cell_type": "code",
   "execution_count": null,
   "id": "8a6261fd-19ef-4f49-bda4-c3f358ca3757",
   "metadata": {},
   "outputs": [],
   "source": [
    "pip install pyusb python-usbtmc libusb pyserial pywin32"
   ]
  },
  {
   "cell_type": "code",
   "execution_count": null,
   "id": "c27222ff-6764-412d-b58b-8b25f18c88d3",
   "metadata": {},
   "outputs": [],
   "source": [
    "import usb\n",
    "# d= usb.core.find(find_all=1)\n",
    "# print(d)\n",
    "\n",
    "dev = usb.core.find(idVendor=0x957, idProduct=0x0001)\n",
    "print(dev)"
   ]
  },
  {
   "cell_type": "code",
   "execution_count": null,
   "id": "05a6212f-d1fa-491c-80ae-a7895f94a827",
   "metadata": {},
   "outputs": [],
   "source": [
    "import usb.backend.libusb1 as lib1; \n",
    "\n",
    "print(lib1.get_backend())"
   ]
  },
  {
   "cell_type": "code",
   "execution_count": null,
   "id": "bcb9bf7c-f978-4c66-ac09-32f14e8fc2e2",
   "metadata": {},
   "outputs": [],
   "source": [
    "import usb.core, usb.util, usb.backend.libusb1 as lib1, platform, sys, ctypes, shutil, os\n",
    "backend = lib1.get_backend()\n",
    "print(f\"Python: {platform.python_version()}  ({platform.architecture()[0]})\")\n",
    "print(f\"libusb backend: {backend or '❌ NOT FOUND'}\")\n",
    "\n",
    "# List every Agilent/Keysight USB device PyUSB can see\n",
    "for d in usb.core.find(find_all=True, idVendor=0x0957):\n",
    "    try:\n",
    "        # string descriptors are optional; ignore failures\n",
    "        mfg  = usb.util.get_string(d, d.iManufacturer)\n",
    "        prod = usb.util.get_string(d, d.iProduct)\n",
    "    except Exception:\n",
    "        mfg = prod = \"?\"\n",
    "    print(f\"Found 0x0957:0x{d.idProduct:04x}  {mfg} – {prod}\")\n"
   ]
  }
 ],
 "metadata": {
  "kernelspec": {
   "display_name": "Python 3 (ipykernel)",
   "language": "python",
   "name": "python3"
  },
  "language_info": {
   "codemirror_mode": {
    "name": "ipython",
    "version": 3
   },
   "file_extension": ".py",
   "mimetype": "text/x-python",
   "name": "python",
   "nbconvert_exporter": "python",
   "pygments_lexer": "ipython3",
   "version": "3.12.6"
  }
 },
 "nbformat": 4,
 "nbformat_minor": 5
}
