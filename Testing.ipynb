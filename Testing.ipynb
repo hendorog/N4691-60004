{
 "cells": [
  {
   "cell_type": "code",
   "execution_count": null,
   "id": "8a6261fd-19ef-4f49-bda4-c3f358ca3757",
   "metadata": {},
   "outputs": [],
   "source": [
    "pip install pyusb python-usbtmc libusb pyserial pywin32"
   ]
  },
  {
   "cell_type": "code",
   "execution_count": null,
   "id": "c27222ff-6764-412d-b58b-8b25f18c88d3",
   "metadata": {},
   "outputs": [],
   "source": [
    "import usb\n",
    "# d= usb.core.find(find_all=1)\n",
    "# print(d)\n",
    "\n",
    "dev = usb.core.find(idVendor=0x957, idProduct=0x0001)\n",
    "print(dev)"
   ]
  }
 ],
 "metadata": {
  "kernelspec": {
   "display_name": "Python 3 (ipykernel)",
   "language": "python",
   "name": "python3"
  },
  "language_info": {
   "codemirror_mode": {
    "name": "ipython",
    "version": 3
   },
   "file_extension": ".py",
   "mimetype": "text/x-python",
   "name": "python",
   "nbconvert_exporter": "python",
   "pygments_lexer": "ipython3",
   "version": "3.12.6"
  }
 },
 "nbformat": 4,
 "nbformat_minor": 5
}
